{
 "cells": [
  {
   "cell_type": "code",
   "execution_count": null,
   "id": "af0cc142",
   "metadata": {},
   "outputs": [],
   "source": [
    "# Import necessary libraries and modules\n",
    "from qiskit import QuantumRegister, ClassicalRegister\n",
    "from qiskit import QuantumCircuit, execute, Aer\n",
    "from qiskit.tools.monitor import job_monitor\n",
    "from qiskit.circuit.library import QFT\n",
    "import numpy as np\n",
    "\n",
    "# Define the value of pi (π) and specify the quantum backend\n",
    "pi = np.pi\n",
    "backend = Aer.get_backend('qasm_simulator')\n",
    "\n",
    "# Create quantum and classical registers\n",
    "q = QuantumRegister(5, 'q')  # Quantum register with 5 qubits\n",
    "c = ClassicalRegister(5, 'c')  # Classical register with 5 classical bits\n",
    "\n",
    "# Create a quantum circuit and apply X gates to set the initial state\n",
    "circuit = QuantumCircuit(q, c)\n",
    "circuit.x(q[4])  # Apply X gate to qubit q[4]\n",
    "circuit.x(q[2])  # Apply X gate to qubit q[2]\n",
    "circuit.x(q[0])  # Apply X gate to qubit q[0]\n",
    "\n",
    "# Append the Quantum Fourier Transform (QFT) operation to the circuit\n",
    "circuit &= QFT(num_qubits=5, approximation_degree=0, do_swaps=True, inverse=False, insert_barriers=False, name='qft')\n",
    "\n",
    "# Measure the quantum state and map the results to classical bits\n",
    "circuit.measure(q, c)\n",
    "\n",
    "# Draw the quantum circuit and save it as an image\n",
    "circuit.draw(output='mpl', filename='qft1.png')\n",
    "\n",
    "# Execute the circuit on the quantum simulator with 1000 shots\n",
    "job = execute(circuit, backend, shots=1000)\n",
    "\n",
    "# Monitor the job's progress and wait for it to complete\n",
    "job_monitor(job)\n",
    "\n",
    "# Get and display the measurement results (counts)\n",
    "counts = job.result().get_counts()\n",
    "print(\"\\nQFT Output\")\n",
    "print(\"-------------\")\n",
    "print(counts)\n",
    "\n",
    "# Pause execution to keep the console window open for result viewing\n",
    "input()"
   ]
  }
 ],
 "metadata": {
  "kernelspec": {
   "display_name": "Python 3 (ipykernel)",
   "language": "python",
   "name": "python3"
  },
  "language_info": {
   "codemirror_mode": {
    "name": "ipython",
    "version": 3
   },
   "file_extension": ".py",
   "mimetype": "text/x-python",
   "name": "python",
   "nbconvert_exporter": "python",
   "pygments_lexer": "ipython3",
   "version": "3.8.8"
  }
 },
 "nbformat": 4,
 "nbformat_minor": 5
}
