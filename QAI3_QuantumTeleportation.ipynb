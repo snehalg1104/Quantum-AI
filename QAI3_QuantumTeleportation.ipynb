{
 "cells": [
  {
   "cell_type": "code",
   "execution_count": null,
   "id": "d5c05664",
   "metadata": {},
   "outputs": [],
   "source": [
    "from qiskit import *\n",
    "\n",
    "circuit = QuantumCircuit(3,3)\n",
    "# QUBIT ORDERING\n",
    "# q0 = State |psi> that we want to teleport\n",
    "# q1 = Alice's half of the Bell pair\n",
    "# q2 = Bob's half of the Bell pair, the destination of the teleportation\n",
    "\n",
    "# ========================\n",
    "# Step 0: Create the state to be teleported in qubit 0\n",
    "circuit.x(0) # qubit 0 is now in state |1>, and this is the state that we want to teleport\n",
    "\n",
    "circuit.barrier() # just a visual aid\n",
    "\n",
    "# ========================\n",
    "# Step 1: create an entangled Bell pair between Alice and Bob (qubits 1 and 2)\n",
    "circuit.h(1)\n",
    "circuit.cx(1,2)\n",
    "\n",
    "circuit.barrier() # just a visual aid\n",
    "\n",
    "# ========================\n",
    "# Step 2: Alice applies a series of operations \n",
    "# between the state to teleport (qubit 0) and her half of the Bell pair (qubit 1)\n",
    "circuit.cx(0,1)\n",
    "circuit.h(0)\n",
    "\n",
    "circuit.barrier() # just a visual aid\n",
    "\n",
    "# ========================\n",
    "# Step 3: Alice measures both qubits 0 and 1\n",
    "circuit.measure([0, 1], [0, 1]) # results stored in classical bits 0 and 1, respectively\n",
    "\n",
    "circuit.barrier() # just a visual aid\n",
    "\n",
    "# ========================\n",
    "# Step 4: Now that Alice has measured the two qubits, their states have collapsed to 0 and 1. \n",
    "# Bob can do operations conditioned on these qubits to his half of the Bell pair\n",
    "# Note that while we're conditioning Bob's operation on the collapsed qubits 0 and 1, we can\n",
    "# do teleportation over long distances by transmitting the classical information in classical bits 0 and 1\n",
    "circuit.cx(1, 2)\n",
    "circuit.cz(0, 2)\n",
    "\n",
    "# Step 5: Done! Measure Bob's qubit to find out what state it is in\n",
    "circuit.measure([2], [2])\n",
    "\n",
    "%matplotlib inline\n",
    "circuit.draw(output='mpl')\n",
    "\n",
    "simulator = Aer.get_backend('qasm_simulator')\n",
    "result = execute(circuit, backend=simulator, shots=1024).result()\n",
    "from qiskit.visualization import plot_histogram\n",
    "plot_histogram(result.get_counts(circuit))\n"
   ]
  }
 ],
 "metadata": {
  "kernelspec": {
   "display_name": "Python 3 (ipykernel)",
   "language": "python",
   "name": "python3"
  },
  "language_info": {
   "codemirror_mode": {
    "name": "ipython",
    "version": 3
   },
   "file_extension": ".py",
   "mimetype": "text/x-python",
   "name": "python",
   "nbconvert_exporter": "python",
   "pygments_lexer": "ipython3",
   "version": "3.8.8"
  }
 },
 "nbformat": 4,
 "nbformat_minor": 5
}
