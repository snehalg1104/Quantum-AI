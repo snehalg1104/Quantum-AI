{
 "cells": [
  {
   "cell_type": "code",
   "execution_count": null,
   "id": "72458bdb",
   "metadata": {},
   "outputs": [],
   "source": [
    "# Step 1: Importing the Necessary Libraries\n",
    "# Install Qiskit and its provider package\n",
    "# pip install qiskit\n",
    "# pip install qiskit-ibmq-provider\n",
    "# pip install qiskit-aer\n",
    "# Import necessary modules\n",
    "from qiskit import QuantumRegister, ClassicalRegister, QuantumCircuit, execute, Aer"
   ]
  },
  {
   "cell_type": "code",
   "execution_count": null,
   "id": "68c938ff",
   "metadata": {},
   "outputs": [],
   "source": [
    "# Step 2: Creating Quantum and Classical Registers\n",
    "q = QuantumRegister(16, 'q')  # Create a quantum register with 16 qubits\n",
    "c = ClassicalRegister(16, 'c')  # Create a classical register with 16 classical bits"
   ]
  },
  {
   "cell_type": "code",
   "execution_count": null,
   "id": "8bfac346",
   "metadata": {},
   "outputs": [],
   "source": [
    "# Step 3: Creating a Quantum Circuit\n",
    "circuit = QuantumCircuit(q, c)  # Create a quantum circuit associated with the quantum and classical registers"
   ]
  },
  {
   "cell_type": "code",
   "execution_count": null,
   "id": "679578e8",
   "metadata": {},
   "outputs": [],
   "source": [
    "# Step 4: Applying Hadamard Gates\n",
    "circuit.h(q)  # Apply Hadamard gates to all 16 qubits, creating superposition states\n"
   ]
  },
  {
   "cell_type": "code",
   "execution_count": null,
   "id": "0cd8134b",
   "metadata": {},
   "outputs": [],
   "source": [
    "# Step 5: Measuring Qubits\n",
    "circuit.measure(q, c)  # Instruct the circuit to measure all qubits and store results in classical bits\n"
   ]
  },
  {
   "cell_type": "code",
   "execution_count": null,
   "id": "23c5f545",
   "metadata": {},
   "outputs": [],
   "source": [
    "# Step 6: Setting the Quantum Simulator Backend\n",
    "backend = Aer.get_backend('qasm_simulator')  # Choose the quantum simulator backend\n"
   ]
  },
  {
   "cell_type": "code",
   "execution_count": null,
   "id": "84694336",
   "metadata": {},
   "outputs": [],
   "source": [
    "# Step 7: Executing the Quantum Circuit\n",
    "job = execute(circuit, backend, shots=1)  # Execute the circuit with a single shot"
   ]
  },
  {
   "cell_type": "code",
   "execution_count": null,
   "id": "09ecb0c3",
   "metadata": {},
   "outputs": [],
   "source": [
    "# Step 8: Obtaining the Results\n",
    "result = job.result()  # Get the execution results\n",
    "counts = result.get_counts(circuit)  # Retrieve measurement outcomes and their counts\n"
   ]
  },
  {
   "cell_type": "code",
   "execution_count": null,
   "id": "3eb3604e",
   "metadata": {},
   "outputs": [],
   "source": [
    "# Step 9: Printing the Results\n",
    "print('RESULT: ', counts, '\\n')  # Print the measurement outcomes and counts\n"
   ]
  },
  {
   "cell_type": "code",
   "execution_count": null,
   "id": "6b6d149f",
   "metadata": {},
   "outputs": [],
   "source": [
    "# Step 10: Waiting for User Input\n",
    "print('Press any key to close')\n",
    "input()  # Wait for user input before closing the program"
   ]
  }
 ],
 "metadata": {
  "kernelspec": {
   "display_name": "Python 3 (ipykernel)",
   "language": "python",
   "name": "python3"
  },
  "language_info": {
   "codemirror_mode": {
    "name": "ipython",
    "version": 3
   },
   "file_extension": ".py",
   "mimetype": "text/x-python",
   "name": "python",
   "nbconvert_exporter": "python",
   "pygments_lexer": "ipython3",
   "version": "3.8.8"
  }
 },
 "nbformat": 4,
 "nbformat_minor": 5
}
